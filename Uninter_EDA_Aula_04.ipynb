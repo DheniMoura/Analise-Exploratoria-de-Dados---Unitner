{
  "nbformat": 4,
  "nbformat_minor": 0,
  "metadata": {
    "colab": {
      "provenance": [],
      "authorship_tag": "ABX9TyMzdQJ1mUH2hAUVu9oeH+pj",
      "include_colab_link": true
    },
    "kernelspec": {
      "name": "python3",
      "display_name": "Python 3"
    },
    "language_info": {
      "name": "python"
    }
  },
  "cells": [
    {
      "cell_type": "markdown",
      "metadata": {
        "id": "view-in-github",
        "colab_type": "text"
      },
      "source": [
        "<a href=\"https://colab.research.google.com/github/DheniMoura/Analise-Exploratoria-de-Dados---Unitner/blob/main/Uninter_EDA_Aula_04.ipynb\" target=\"_parent\"><img src=\"https://colab.research.google.com/assets/colab-badge.svg\" alt=\"Open In Colab\"/></a>"
      ]
    },
    {
      "cell_type": "markdown",
      "source": [
        "# Bibliotecas e Importação dos dados"
      ],
      "metadata": {
        "id": "8FFMcR9aeKMz"
      }
    },
    {
      "cell_type": "code",
      "execution_count": 1,
      "metadata": {
        "id": "71LgnWHLeAuO"
      },
      "outputs": [],
      "source": [
        "import pandas as pd\n",
        "import numpy as np"
      ]
    },
    {
      "cell_type": "code",
      "source": [
        "df1 = pd.read_csv('https://raw.githubusercontent.com/dayanebravo/AED/main/pes_2012.csv')\n",
        "df1.head()"
      ],
      "metadata": {
        "colab": {
          "base_uri": "https://localhost:8080/",
          "height": 206
        },
        "id": "UnOY7uFAeRWS",
        "outputId": "a5b8ed8c-51f9-4106-f0cb-197bf42d6764"
      },
      "execution_count": 2,
      "outputs": [
        {
          "output_type": "execute_result",
          "data": {
            "text/plain": [
              "   V0101        UF      V0302  V8005   V0404            V4803 V4718 V4720  \\\n",
              "0   2012  Rondônia  Masculino     48  Branca  15 anos ou mais  3000  3000   \n",
              "1   2012  Rondônia   Feminino     48  Branca  15 anos ou mais  3000  3000   \n",
              "2   2012  Rondônia   Feminino     23  Branca  15 anos ou mais  1100  1100   \n",
              "3   2012  Rondônia   Feminino     21  Branca          14 anos  1100  1100   \n",
              "4   2012  Rondônia   Feminino     54  Branca  15 anos ou mais   NaN   460   \n",
              "\n",
              "   V4729  \n",
              "0    232  \n",
              "1    232  \n",
              "2    232  \n",
              "3    232  \n",
              "4    232  "
            ],
            "text/html": [
              "\n",
              "  <div id=\"df-c0319393-fc91-4c07-b83b-ea6e68c7a213\">\n",
              "    <div class=\"colab-df-container\">\n",
              "      <div>\n",
              "<style scoped>\n",
              "    .dataframe tbody tr th:only-of-type {\n",
              "        vertical-align: middle;\n",
              "    }\n",
              "\n",
              "    .dataframe tbody tr th {\n",
              "        vertical-align: top;\n",
              "    }\n",
              "\n",
              "    .dataframe thead th {\n",
              "        text-align: right;\n",
              "    }\n",
              "</style>\n",
              "<table border=\"1\" class=\"dataframe\">\n",
              "  <thead>\n",
              "    <tr style=\"text-align: right;\">\n",
              "      <th></th>\n",
              "      <th>V0101</th>\n",
              "      <th>UF</th>\n",
              "      <th>V0302</th>\n",
              "      <th>V8005</th>\n",
              "      <th>V0404</th>\n",
              "      <th>V4803</th>\n",
              "      <th>V4718</th>\n",
              "      <th>V4720</th>\n",
              "      <th>V4729</th>\n",
              "    </tr>\n",
              "  </thead>\n",
              "  <tbody>\n",
              "    <tr>\n",
              "      <th>0</th>\n",
              "      <td>2012</td>\n",
              "      <td>Rondônia</td>\n",
              "      <td>Masculino</td>\n",
              "      <td>48</td>\n",
              "      <td>Branca</td>\n",
              "      <td>15 anos ou mais</td>\n",
              "      <td>3000</td>\n",
              "      <td>3000</td>\n",
              "      <td>232</td>\n",
              "    </tr>\n",
              "    <tr>\n",
              "      <th>1</th>\n",
              "      <td>2012</td>\n",
              "      <td>Rondônia</td>\n",
              "      <td>Feminino</td>\n",
              "      <td>48</td>\n",
              "      <td>Branca</td>\n",
              "      <td>15 anos ou mais</td>\n",
              "      <td>3000</td>\n",
              "      <td>3000</td>\n",
              "      <td>232</td>\n",
              "    </tr>\n",
              "    <tr>\n",
              "      <th>2</th>\n",
              "      <td>2012</td>\n",
              "      <td>Rondônia</td>\n",
              "      <td>Feminino</td>\n",
              "      <td>23</td>\n",
              "      <td>Branca</td>\n",
              "      <td>15 anos ou mais</td>\n",
              "      <td>1100</td>\n",
              "      <td>1100</td>\n",
              "      <td>232</td>\n",
              "    </tr>\n",
              "    <tr>\n",
              "      <th>3</th>\n",
              "      <td>2012</td>\n",
              "      <td>Rondônia</td>\n",
              "      <td>Feminino</td>\n",
              "      <td>21</td>\n",
              "      <td>Branca</td>\n",
              "      <td>14 anos</td>\n",
              "      <td>1100</td>\n",
              "      <td>1100</td>\n",
              "      <td>232</td>\n",
              "    </tr>\n",
              "    <tr>\n",
              "      <th>4</th>\n",
              "      <td>2012</td>\n",
              "      <td>Rondônia</td>\n",
              "      <td>Feminino</td>\n",
              "      <td>54</td>\n",
              "      <td>Branca</td>\n",
              "      <td>15 anos ou mais</td>\n",
              "      <td>NaN</td>\n",
              "      <td>460</td>\n",
              "      <td>232</td>\n",
              "    </tr>\n",
              "  </tbody>\n",
              "</table>\n",
              "</div>\n",
              "      <button class=\"colab-df-convert\" onclick=\"convertToInteractive('df-c0319393-fc91-4c07-b83b-ea6e68c7a213')\"\n",
              "              title=\"Convert this dataframe to an interactive table.\"\n",
              "              style=\"display:none;\">\n",
              "        \n",
              "  <svg xmlns=\"http://www.w3.org/2000/svg\" height=\"24px\"viewBox=\"0 0 24 24\"\n",
              "       width=\"24px\">\n",
              "    <path d=\"M0 0h24v24H0V0z\" fill=\"none\"/>\n",
              "    <path d=\"M18.56 5.44l.94 2.06.94-2.06 2.06-.94-2.06-.94-.94-2.06-.94 2.06-2.06.94zm-11 1L8.5 8.5l.94-2.06 2.06-.94-2.06-.94L8.5 2.5l-.94 2.06-2.06.94zm10 10l.94 2.06.94-2.06 2.06-.94-2.06-.94-.94-2.06-.94 2.06-2.06.94z\"/><path d=\"M17.41 7.96l-1.37-1.37c-.4-.4-.92-.59-1.43-.59-.52 0-1.04.2-1.43.59L10.3 9.45l-7.72 7.72c-.78.78-.78 2.05 0 2.83L4 21.41c.39.39.9.59 1.41.59.51 0 1.02-.2 1.41-.59l7.78-7.78 2.81-2.81c.8-.78.8-2.07 0-2.86zM5.41 20L4 18.59l7.72-7.72 1.47 1.35L5.41 20z\"/>\n",
              "  </svg>\n",
              "      </button>\n",
              "      \n",
              "  <style>\n",
              "    .colab-df-container {\n",
              "      display:flex;\n",
              "      flex-wrap:wrap;\n",
              "      gap: 12px;\n",
              "    }\n",
              "\n",
              "    .colab-df-convert {\n",
              "      background-color: #E8F0FE;\n",
              "      border: none;\n",
              "      border-radius: 50%;\n",
              "      cursor: pointer;\n",
              "      display: none;\n",
              "      fill: #1967D2;\n",
              "      height: 32px;\n",
              "      padding: 0 0 0 0;\n",
              "      width: 32px;\n",
              "    }\n",
              "\n",
              "    .colab-df-convert:hover {\n",
              "      background-color: #E2EBFA;\n",
              "      box-shadow: 0px 1px 2px rgba(60, 64, 67, 0.3), 0px 1px 3px 1px rgba(60, 64, 67, 0.15);\n",
              "      fill: #174EA6;\n",
              "    }\n",
              "\n",
              "    [theme=dark] .colab-df-convert {\n",
              "      background-color: #3B4455;\n",
              "      fill: #D2E3FC;\n",
              "    }\n",
              "\n",
              "    [theme=dark] .colab-df-convert:hover {\n",
              "      background-color: #434B5C;\n",
              "      box-shadow: 0px 1px 3px 1px rgba(0, 0, 0, 0.15);\n",
              "      filter: drop-shadow(0px 1px 2px rgba(0, 0, 0, 0.3));\n",
              "      fill: #FFFFFF;\n",
              "    }\n",
              "  </style>\n",
              "\n",
              "      <script>\n",
              "        const buttonEl =\n",
              "          document.querySelector('#df-c0319393-fc91-4c07-b83b-ea6e68c7a213 button.colab-df-convert');\n",
              "        buttonEl.style.display =\n",
              "          google.colab.kernel.accessAllowed ? 'block' : 'none';\n",
              "\n",
              "        async function convertToInteractive(key) {\n",
              "          const element = document.querySelector('#df-c0319393-fc91-4c07-b83b-ea6e68c7a213');\n",
              "          const dataTable =\n",
              "            await google.colab.kernel.invokeFunction('convertToInteractive',\n",
              "                                                     [key], {});\n",
              "          if (!dataTable) return;\n",
              "\n",
              "          const docLinkHtml = 'Like what you see? Visit the ' +\n",
              "            '<a target=\"_blank\" href=https://colab.research.google.com/notebooks/data_table.ipynb>data table notebook</a>'\n",
              "            + ' to learn more about interactive tables.';\n",
              "          element.innerHTML = '';\n",
              "          dataTable['output_type'] = 'display_data';\n",
              "          await google.colab.output.renderOutput(dataTable, element);\n",
              "          const docLink = document.createElement('div');\n",
              "          docLink.innerHTML = docLinkHtml;\n",
              "          element.appendChild(docLink);\n",
              "        }\n",
              "      </script>\n",
              "    </div>\n",
              "  </div>\n",
              "  "
            ]
          },
          "metadata": {},
          "execution_count": 2
        }
      ]
    },
    {
      "cell_type": "code",
      "source": [
        "# Converte para numérico, transforma em float e substitui os erros por NaN\n",
        "df1['V4718'] = pd.to_numeric(df1['V4718'], errors='coerce')\n",
        "df1['V4720'] = pd.to_numeric(df1['V4720'], errors='coerce')  "
      ],
      "metadata": {
        "id": "P3yE5KZTeV6M"
      },
      "execution_count": 4,
      "outputs": []
    },
    {
      "cell_type": "code",
      "source": [
        "df = df1.dropna()\n",
        "df.head()"
      ],
      "metadata": {
        "colab": {
          "base_uri": "https://localhost:8080/",
          "height": 206
        },
        "id": "GsS3UagheXyk",
        "outputId": "6ae383de-959e-4413-b72d-55cc4c84c611"
      },
      "execution_count": 5,
      "outputs": [
        {
          "output_type": "execute_result",
          "data": {
            "text/plain": [
              "   V0101        UF      V0302  V8005   V0404            V4803    V4718  \\\n",
              "0   2012  Rondônia  Masculino     48  Branca  15 anos ou mais   3000.0   \n",
              "1   2012  Rondônia   Feminino     48  Branca  15 anos ou mais   3000.0   \n",
              "2   2012  Rondônia   Feminino     23  Branca  15 anos ou mais   1100.0   \n",
              "3   2012  Rondônia   Feminino     21  Branca          14 anos   1100.0   \n",
              "5   2012  Rondônia  Masculino     56   Preta  15 anos ou mais  10000.0   \n",
              "\n",
              "     V4720  V4729  \n",
              "0   3000.0    232  \n",
              "1   3000.0    232  \n",
              "2   1100.0    232  \n",
              "3   1100.0    232  \n",
              "5  10000.0    232  "
            ],
            "text/html": [
              "\n",
              "  <div id=\"df-190d8ed3-eb5f-4df8-a5a9-7546f2d5fbee\">\n",
              "    <div class=\"colab-df-container\">\n",
              "      <div>\n",
              "<style scoped>\n",
              "    .dataframe tbody tr th:only-of-type {\n",
              "        vertical-align: middle;\n",
              "    }\n",
              "\n",
              "    .dataframe tbody tr th {\n",
              "        vertical-align: top;\n",
              "    }\n",
              "\n",
              "    .dataframe thead th {\n",
              "        text-align: right;\n",
              "    }\n",
              "</style>\n",
              "<table border=\"1\" class=\"dataframe\">\n",
              "  <thead>\n",
              "    <tr style=\"text-align: right;\">\n",
              "      <th></th>\n",
              "      <th>V0101</th>\n",
              "      <th>UF</th>\n",
              "      <th>V0302</th>\n",
              "      <th>V8005</th>\n",
              "      <th>V0404</th>\n",
              "      <th>V4803</th>\n",
              "      <th>V4718</th>\n",
              "      <th>V4720</th>\n",
              "      <th>V4729</th>\n",
              "    </tr>\n",
              "  </thead>\n",
              "  <tbody>\n",
              "    <tr>\n",
              "      <th>0</th>\n",
              "      <td>2012</td>\n",
              "      <td>Rondônia</td>\n",
              "      <td>Masculino</td>\n",
              "      <td>48</td>\n",
              "      <td>Branca</td>\n",
              "      <td>15 anos ou mais</td>\n",
              "      <td>3000.0</td>\n",
              "      <td>3000.0</td>\n",
              "      <td>232</td>\n",
              "    </tr>\n",
              "    <tr>\n",
              "      <th>1</th>\n",
              "      <td>2012</td>\n",
              "      <td>Rondônia</td>\n",
              "      <td>Feminino</td>\n",
              "      <td>48</td>\n",
              "      <td>Branca</td>\n",
              "      <td>15 anos ou mais</td>\n",
              "      <td>3000.0</td>\n",
              "      <td>3000.0</td>\n",
              "      <td>232</td>\n",
              "    </tr>\n",
              "    <tr>\n",
              "      <th>2</th>\n",
              "      <td>2012</td>\n",
              "      <td>Rondônia</td>\n",
              "      <td>Feminino</td>\n",
              "      <td>23</td>\n",
              "      <td>Branca</td>\n",
              "      <td>15 anos ou mais</td>\n",
              "      <td>1100.0</td>\n",
              "      <td>1100.0</td>\n",
              "      <td>232</td>\n",
              "    </tr>\n",
              "    <tr>\n",
              "      <th>3</th>\n",
              "      <td>2012</td>\n",
              "      <td>Rondônia</td>\n",
              "      <td>Feminino</td>\n",
              "      <td>21</td>\n",
              "      <td>Branca</td>\n",
              "      <td>14 anos</td>\n",
              "      <td>1100.0</td>\n",
              "      <td>1100.0</td>\n",
              "      <td>232</td>\n",
              "    </tr>\n",
              "    <tr>\n",
              "      <th>5</th>\n",
              "      <td>2012</td>\n",
              "      <td>Rondônia</td>\n",
              "      <td>Masculino</td>\n",
              "      <td>56</td>\n",
              "      <td>Preta</td>\n",
              "      <td>15 anos ou mais</td>\n",
              "      <td>10000.0</td>\n",
              "      <td>10000.0</td>\n",
              "      <td>232</td>\n",
              "    </tr>\n",
              "  </tbody>\n",
              "</table>\n",
              "</div>\n",
              "      <button class=\"colab-df-convert\" onclick=\"convertToInteractive('df-190d8ed3-eb5f-4df8-a5a9-7546f2d5fbee')\"\n",
              "              title=\"Convert this dataframe to an interactive table.\"\n",
              "              style=\"display:none;\">\n",
              "        \n",
              "  <svg xmlns=\"http://www.w3.org/2000/svg\" height=\"24px\"viewBox=\"0 0 24 24\"\n",
              "       width=\"24px\">\n",
              "    <path d=\"M0 0h24v24H0V0z\" fill=\"none\"/>\n",
              "    <path d=\"M18.56 5.44l.94 2.06.94-2.06 2.06-.94-2.06-.94-.94-2.06-.94 2.06-2.06.94zm-11 1L8.5 8.5l.94-2.06 2.06-.94-2.06-.94L8.5 2.5l-.94 2.06-2.06.94zm10 10l.94 2.06.94-2.06 2.06-.94-2.06-.94-.94-2.06-.94 2.06-2.06.94z\"/><path d=\"M17.41 7.96l-1.37-1.37c-.4-.4-.92-.59-1.43-.59-.52 0-1.04.2-1.43.59L10.3 9.45l-7.72 7.72c-.78.78-.78 2.05 0 2.83L4 21.41c.39.39.9.59 1.41.59.51 0 1.02-.2 1.41-.59l7.78-7.78 2.81-2.81c.8-.78.8-2.07 0-2.86zM5.41 20L4 18.59l7.72-7.72 1.47 1.35L5.41 20z\"/>\n",
              "  </svg>\n",
              "      </button>\n",
              "      \n",
              "  <style>\n",
              "    .colab-df-container {\n",
              "      display:flex;\n",
              "      flex-wrap:wrap;\n",
              "      gap: 12px;\n",
              "    }\n",
              "\n",
              "    .colab-df-convert {\n",
              "      background-color: #E8F0FE;\n",
              "      border: none;\n",
              "      border-radius: 50%;\n",
              "      cursor: pointer;\n",
              "      display: none;\n",
              "      fill: #1967D2;\n",
              "      height: 32px;\n",
              "      padding: 0 0 0 0;\n",
              "      width: 32px;\n",
              "    }\n",
              "\n",
              "    .colab-df-convert:hover {\n",
              "      background-color: #E2EBFA;\n",
              "      box-shadow: 0px 1px 2px rgba(60, 64, 67, 0.3), 0px 1px 3px 1px rgba(60, 64, 67, 0.15);\n",
              "      fill: #174EA6;\n",
              "    }\n",
              "\n",
              "    [theme=dark] .colab-df-convert {\n",
              "      background-color: #3B4455;\n",
              "      fill: #D2E3FC;\n",
              "    }\n",
              "\n",
              "    [theme=dark] .colab-df-convert:hover {\n",
              "      background-color: #434B5C;\n",
              "      box-shadow: 0px 1px 3px 1px rgba(0, 0, 0, 0.15);\n",
              "      filter: drop-shadow(0px 1px 2px rgba(0, 0, 0, 0.3));\n",
              "      fill: #FFFFFF;\n",
              "    }\n",
              "  </style>\n",
              "\n",
              "      <script>\n",
              "        const buttonEl =\n",
              "          document.querySelector('#df-190d8ed3-eb5f-4df8-a5a9-7546f2d5fbee button.colab-df-convert');\n",
              "        buttonEl.style.display =\n",
              "          google.colab.kernel.accessAllowed ? 'block' : 'none';\n",
              "\n",
              "        async function convertToInteractive(key) {\n",
              "          const element = document.querySelector('#df-190d8ed3-eb5f-4df8-a5a9-7546f2d5fbee');\n",
              "          const dataTable =\n",
              "            await google.colab.kernel.invokeFunction('convertToInteractive',\n",
              "                                                     [key], {});\n",
              "          if (!dataTable) return;\n",
              "\n",
              "          const docLinkHtml = 'Like what you see? Visit the ' +\n",
              "            '<a target=\"_blank\" href=https://colab.research.google.com/notebooks/data_table.ipynb>data table notebook</a>'\n",
              "            + ' to learn more about interactive tables.';\n",
              "          element.innerHTML = '';\n",
              "          dataTable['output_type'] = 'display_data';\n",
              "          await google.colab.output.renderOutput(dataTable, element);\n",
              "          const docLink = document.createElement('div');\n",
              "          docLink.innerHTML = docLinkHtml;\n",
              "          element.appendChild(docLink);\n",
              "        }\n",
              "      </script>\n",
              "    </div>\n",
              "  </div>\n",
              "  "
            ]
          },
          "metadata": {},
          "execution_count": 5
        }
      ]
    },
    {
      "cell_type": "code",
      "source": [
        "series = pd.read_csv('/content/daily-total-female-births.csv', \n",
        "                     header=0, index_col=0, parse_dates=True, squeeze=True)\n",
        "series.head()"
      ],
      "metadata": {
        "colab": {
          "base_uri": "https://localhost:8080/"
        },
        "id": "NJJqBdFKfSEG",
        "outputId": "c591c7af-6114-49bb-f235-ebb1fc8a3176"
      },
      "execution_count": 7,
      "outputs": [
        {
          "output_type": "stream",
          "name": "stderr",
          "text": [
            "<ipython-input-7-91f389abd410>:1: FutureWarning: The squeeze argument has been deprecated and will be removed in a future version. Append .squeeze(\"columns\") to the call to squeeze.\n",
            "\n",
            "\n",
            "  series = pd.read_csv('/content/daily-total-female-births.csv',\n"
          ]
        },
        {
          "output_type": "execute_result",
          "data": {
            "text/plain": [
              "Date\n",
              "1959-01-01    35\n",
              "1959-01-02    32\n",
              "1959-01-03    30\n",
              "1959-01-04    31\n",
              "1959-01-05    44\n",
              "Name: Births, dtype: int64"
            ]
          },
          "metadata": {},
          "execution_count": 7
        }
      ]
    },
    {
      "cell_type": "code",
      "source": [
        "import matplotlib.pyplot as plt\n",
        "import seaborn as sn\n",
        "sn.set(style='ticks', palette='crest') #estilo e cor dos gráficos"
      ],
      "metadata": {
        "id": "QbxYYrifeeZj"
      },
      "execution_count": 8,
      "outputs": []
    },
    {
      "cell_type": "markdown",
      "source": [
        "# Séries: Temporais e Geográficas\n"
      ],
      "metadata": {
        "id": "Vv8CX0dGeu8G"
      }
    },
    {
      "cell_type": "markdown",
      "source": [
        "## Séries Temporais\n",
        "Ver no Kaggle "
      ],
      "metadata": {
        "id": "wsloha0AfEhv"
      }
    },
    {
      "cell_type": "code",
      "source": [
        "sizes = df.UF # analyzed column\n",
        "\n",
        "sn.displot(y=sizes) # data vertically to avoid spacing issues\n",
        "\n",
        "plt.ylabel('UF')\n",
        "plt.xlabel('quantity')\n",
        "plt.show()"
      ],
      "metadata": {
        "colab": {
          "base_uri": "https://localhost:8080/",
          "height": 501
        },
        "id": "x6dnXciTeq1r",
        "outputId": "d789aa2d-d5dc-452e-df35-a068a77f0f6f"
      },
      "execution_count": 9,
      "outputs": [
        {
          "output_type": "display_data",
          "data": {
            "text/plain": [
              "<Figure size 500x500 with 1 Axes>"
            ],
            "image/png": "[encoded data removed]"
          },
          "metadata": {}
        }
      ]
    },
    {
      "cell_type": "markdown",
      "source": [
        "## Séries Geográficas"
      ],
      "metadata": {
        "id": "RI61rPGtmxNb"
      }
    },
    {
      "cell_type": "code",
      "source": [
        "sizes = df.UF # coluna analisada\n",
        "\n",
        "sn.displot(y=sizes) # dados na vertical para evitar problemas de espaçamento\n",
        "\n",
        "plt.ylabel('UF')\n",
        "plt.xlabel('quantity')\n",
        "plt.show()"
      ],
      "metadata": {
        "colab": {
          "base_uri": "https://localhost:8080/",
          "height": 501
        },
        "id": "ksrpdpaWmtfe",
        "outputId": "6de07f35-671a-4bfc-fd16-0cbe491446c4"
      },
      "execution_count": 10,
      "outputs": [
        {
          "output_type": "display_data",
          "data": {
            "text/plain": [
              "<Figure size 500x500 with 1 Axes>"
            ],
            "image/png": "[encoded data removed]"
          },
          "metadata": {}
        }
      ]
    },
    {
      "cell_type": "markdown",
      "source": [
        "# Somatórios\n",
        "\n",
        "![image.png](data:image/png;base64,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)"
      ],
      "metadata": {
        "id": "UlE99T_Gm8Sx"
      }
    },
    {
      "cell_type": "code",
      "source": [
        "def somatorio(x): # criar uma função que precisa de uma entrada x\n",
        "  if x == 1:\n",
        "    return 1\n",
        "  else:\n",
        "    return x + somatorio(x-1) # retorna a soma do termo e seu antecessor - recursiva\n",
        "  \n",
        "x = int(input(\"Calcular somatório de 1 até: \"))\n",
        "print('Resultado do somatório: ', somatorio(x))"
      ],
      "metadata": {
        "colab": {
          "base_uri": "https://localhost:8080/"
        },
        "id": "mEb6zw8Gmvff",
        "outputId": "3f901ddb-2a72-4cee-fe01-bb1428ac9db8"
      },
      "execution_count": 11,
      "outputs": [
        {
          "output_type": "stream",
          "name": "stdout",
          "text": [
            "Calcular somatório de 1 até: 5\n",
            "Resultado do somatório:  15\n"
          ]
        }
      ]
    },
    {
      "cell_type": "markdown",
      "source": [
        "![image.png](data:image/png;base64,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)"
      ],
      "metadata": {
        "id": "sWIpjpq1odnU"
      }
    },
    {
      "cell_type": "code",
      "source": [
        "def somatorio_dos_quadrados(x):\n",
        "\n",
        "  if x==1:\n",
        "    return 1\n",
        "  else:\n",
        "    return x**2 + somatorio_dos_quadrados(x-1) # retorna a soma do termo elevado ao quadrado e seu antecessor - recursiva\n",
        "\n",
        "x = int(input(\"Calcular somatório de 1 até: \"))\n",
        "print('Resultado da soma dos quadrados: ', somatorio_dos_quadrados(x))"
      ],
      "metadata": {
        "colab": {
          "base_uri": "https://localhost:8080/"
        },
        "id": "ROBAiEGenhLY",
        "outputId": "a6620f70-544a-4ea7-bee4-ac2ce3c6d0f4"
      },
      "execution_count": 14,
      "outputs": [
        {
          "output_type": "stream",
          "name": "stdout",
          "text": [
            "Calcular somatório de 1 até: 5\n",
            "Resultado da soma dos quadrados:  55\n"
          ]
        }
      ]
    },
    {
      "cell_type": "markdown",
      "source": [
        "![image.png](data:image/png;base64,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)"
      ],
      "metadata": {
        "id": "iJSnjtdcosdt"
      }
    },
    {
      "cell_type": "code",
      "source": [
        "def somatorio_quad_menos_k(x, k):\n",
        "  if x==1:\n",
        "    return 1\n",
        "  else:\n",
        "    return (x-k)**2 + somatorio_quad_menos_k(x-1, k) # retorna a soma do termo elevado ao quadrado e seu antecessor - recursiva\n",
        "\n",
        "x = int(input(\"Calcular somatório de 1 até: \"))\n",
        "k = int(input(\"O valor médio dos dados é: \"))\n",
        "print('Resultado da soma dos quadrados: ', somatorio_quad_menos_k(x, k))"
      ],
      "metadata": {
        "colab": {
          "base_uri": "https://localhost:8080/"
        },
        "id": "yBbrcca8os9I",
        "outputId": "b76a9d4c-8ddc-4bc8-ad7a-f0787a1d9ac1"
      },
      "execution_count": 18,
      "outputs": [
        {
          "output_type": "stream",
          "name": "stdout",
          "text": [
            "Calcular somatório de 1 até: 5\n",
            "O valor médio dos dados é: 2\n",
            "Resultado da soma dos quadrados:  15\n"
          ]
        }
      ]
    },
    {
      "cell_type": "markdown",
      "source": [
        "Construindo os somatórios com entradas do banco de dados"
      ],
      "metadata": {
        "id": "9gyNVTFc-5lF"
      }
    },
    {
      "cell_type": "code",
      "source": [
        "x = df.V8005 \n",
        "k = df.V8005.mean()\n",
        "\n",
        "def dm(x, k): # dm => desvio da média\n",
        "  aux = np.array((x-k)**2) # auxiliar que monta um vetor com a entrada subtraída da média e esse resultado elevado ao quadrado\n",
        "  return aux.sum() # saída da função: soma dos termos do vetor aux\n",
        "\n",
        "print('Resultado da função: ', dm(x, k)) # print que chama a função definida calculada em x"
      ],
      "metadata": {
        "colab": {
          "base_uri": "https://localhost:8080/"
        },
        "id": "pVylBoYE-buv",
        "outputId": "b8e06fb4-8b8d-49a9-9550-5a81956d7f01"
      },
      "execution_count": 20,
      "outputs": [
        {
          "output_type": "stream",
          "name": "stdout",
          "text": [
            "Resultado da função:  31445653.362529\n"
          ]
        }
      ]
    },
    {
      "cell_type": "markdown",
      "source": [
        "# Medidas de Tendência Central: Mediana, Moda e Média"
      ],
      "metadata": {
        "id": "BGYcW_sT_3Na"
      }
    },
    {
      "cell_type": "markdown",
      "source": [
        "## Mediana"
      ],
      "metadata": {
        "id": "SghHiVw4AFcY"
      }
    },
    {
      "cell_type": "code",
      "source": [
        "np.median(df.V8005) # usando numpy"
      ],
      "metadata": {
        "colab": {
          "base_uri": "https://localhost:8080/"
        },
        "id": "LAVbw_vT_o4G",
        "outputId": "d5ce52e0-05e1-48b7-d9b7-f5e204cf9dfd"
      },
      "execution_count": 21,
      "outputs": [
        {
          "output_type": "execute_result",
          "data": {
            "text/plain": [
              "37.0"
            ]
          },
          "metadata": {},
          "execution_count": 21
        }
      ]
    },
    {
      "cell_type": "code",
      "source": [
        "df.V8005.median() # usando pandas"
      ],
      "metadata": {
        "colab": {
          "base_uri": "https://localhost:8080/"
        },
        "id": "jbwJkHslAVIR",
        "outputId": "fd112a5c-3225-4812-9ca5-58a9f2f0b71e"
      },
      "execution_count": 22,
      "outputs": [
        {
          "output_type": "execute_result",
          "data": {
            "text/plain": [
              "37.0"
            ]
          },
          "metadata": {},
          "execution_count": 22
        }
      ]
    },
    {
      "cell_type": "markdown",
      "source": [
        "## Moda"
      ],
      "metadata": {
        "id": "Y6QcPuZJAZye"
      }
    },
    {
      "cell_type": "code",
      "source": [
        "df.V8005.mode() # moda em dados quantitativos"
      ],
      "metadata": {
        "colab": {
          "base_uri": "https://localhost:8080/"
        },
        "id": "Zt1kpJhiAYkv",
        "outputId": "ca7083f1-7fd3-4a2a-97a1-cc0dc9544965"
      },
      "execution_count": 23,
      "outputs": [
        {
          "output_type": "execute_result",
          "data": {
            "text/plain": [
              "0    30\n",
              "Name: V8005, dtype: int64"
            ]
          },
          "metadata": {},
          "execution_count": 23
        }
      ]
    },
    {
      "cell_type": "code",
      "source": [
        "df.UF.mode() # moda em dados qualitativos"
      ],
      "metadata": {
        "colab": {
          "base_uri": "https://localhost:8080/"
        },
        "id": "D2I4CkNgAi4B",
        "outputId": "ca934ce2-5db1-4cd2-ecde-e1346f98cdd4"
      },
      "execution_count": 25,
      "outputs": [
        {
          "output_type": "execute_result",
          "data": {
            "text/plain": [
              "0    São Paulo\n",
              "Name: UF, dtype: object"
            ]
          },
          "metadata": {},
          "execution_count": 25
        }
      ]
    },
    {
      "cell_type": "markdown",
      "source": [
        "## Média Aritmética\n",
        "![image.png](data:image/png;base64,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)"
      ],
      "metadata": {
        "id": "EoEaA6XfAsIu"
      }
    },
    {
      "cell_type": "code",
      "source": [
        "np.mean(df.V8005) # usando numpy"
      ],
      "metadata": {
        "colab": {
          "base_uri": "https://localhost:8080/"
        },
        "id": "kdJDwfKZAmy_",
        "outputId": "b386ad6f-5067-445b-e6e7-903ddef30062"
      },
      "execution_count": 26,
      "outputs": [
        {
          "output_type": "execute_result",
          "data": {
            "text/plain": [
              "37.89061415323275"
            ]
          },
          "metadata": {},
          "execution_count": 26
        }
      ]
    },
    {
      "cell_type": "code",
      "source": [
        "df.V8005.mean() # usando pandas"
      ],
      "metadata": {
        "colab": {
          "base_uri": "https://localhost:8080/"
        },
        "id": "3ehRB3xmA8mH",
        "outputId": "7463547f-c41f-40fc-df03-b6c47e7b820c"
      },
      "execution_count": 27,
      "outputs": [
        {
          "output_type": "execute_result",
          "data": {
            "text/plain": [
              "37.89061415323275"
            ]
          },
          "metadata": {},
          "execution_count": 27
        }
      ]
    },
    {
      "cell_type": "markdown",
      "source": [
        "## Média Ponderada\n",
        "![image.png](data:image/png;base64,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)"
      ],
      "metadata": {
        "id": "RHccCDzXBD0J"
      }
    },
    {
      "cell_type": "code",
      "source": [
        "pa = [15,15,30,30,10] # Lista com os pesos de cada avaliação\n",
        "spa = 100 # soma dos pesos das avaliações\n",
        "\n",
        "print(\"Índices das avaliações: \",\n",
        "      \"\\n 1 - APOL 1,\",\n",
        "      \"\\n 2 - APOL 2,\",\n",
        "      \"\\n 3 - Prova Objetiva,\",\n",
        "      \"\\n 4 - Atividade Prática,\",\n",
        "      \"\\n 5 - Prova Discursiva \\n\",)\n",
        "# orientação para o usuário\n",
        "\n",
        "xi = [] #Lista com as notas de cada avaliação\n",
        "md = [] # Lista com os produtos do peso e da avaliação associada ao índice i\n",
        "n = 5 # Número de avaliações\n",
        "i = 0 # Índice i que vai percorrer todas as notas\n",
        "\n",
        "for i in range(n): # cada nota i dentro do número de avaliações\n",
        "  print(\"\\nAvaliação índice: \", i+1) # mensagem para o usuário\n",
        "  xi.append(int(input(\"Insira a nota da avaliação de acordo com o índice acima: \"))) # entrada de xi\n",
        "  md.append(pa[i]*xi[i]) # inserir em md o resultado da multiplicação do peso pela nota\n",
        "\n",
        "# Calcural a soma dos produtos em md\n",
        "xp = 0\n",
        "for k in md: # cada entrada k em md\n",
        "  xp = xp+k # soma das entradas de md\n",
        "\n",
        "print(\"Esta é a média ponderada das suas notas: \", xp/spa)\n"
      ],
      "metadata": {
        "colab": {
          "base_uri": "https://localhost:8080/"
        },
        "id": "-25wnonnA__U",
        "outputId": "427705fc-d4b0-4a0a-f9b5-a4373f3eef04"
      },
      "execution_count": 29,
      "outputs": [
        {
          "output_type": "stream",
          "name": "stdout",
          "text": [
            "Índices das avaliações:  \n",
            " 1 - APOL 1, \n",
            " 2 - APOL 2, \n",
            " 3 - Prova Objetiva, \n",
            " 4 - Atividade Prática, \n",
            " 5 - Prova Discursiva \n",
            "\n",
            "\n",
            "Avaliação índice:  1\n",
            "Insira a nota da avaliação de acordo com o índice acima: 90\n",
            "\n",
            "Avaliação índice:  2\n",
            "Insira a nota da avaliação de acordo com o índice acima: 10\n",
            "\n",
            "Avaliação índice:  3\n",
            "Insira a nota da avaliação de acordo com o índice acima: 100\n",
            "\n",
            "Avaliação índice:  4\n",
            "Insira a nota da avaliação de acordo com o índice acima: 95\n",
            "\n",
            "Avaliação índice:  5\n",
            "Insira a nota da avaliação de acordo com o índice acima: 80\n",
            "Esta é a média ponderada das suas notas:  81.5\n"
          ]
        }
      ]
    },
    {
      "cell_type": "markdown",
      "source": [
        "## Média Geométrica\n",
        "![image.png](data:image/png;base64,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)"
      ],
      "metadata": {
        "id": "PdayipaODys3"
      }
    },
    {
      "cell_type": "code",
      "source": [
        "def geo_mean(k): \n",
        "  aux = np.array(k) # auxiliar que monta um vetor com a entrada\n",
        "  return aux.prod()**(1.0/len(aux)) # saída: produto dos termos do vetor aux elevado à (1/n)\n",
        "\n",
        "x = [2,4,8,16,32] # entrada como vetor\n",
        "print(geo_mean(x)) # print que chama a função definida calculada em x"
      ],
      "metadata": {
        "colab": {
          "base_uri": "https://localhost:8080/"
        },
        "id": "rC9m-3qxDdPy",
        "outputId": "2dede8fb-1ea0-493f-92c4-1e30a0170eb3"
      },
      "execution_count": 30,
      "outputs": [
        {
          "output_type": "stream",
          "name": "stdout",
          "text": [
            "8.000000000000002\n"
          ]
        }
      ]
    },
    {
      "cell_type": "markdown",
      "source": [
        "## Média Harmônica\n",
        "![image.png](data:image/png;base64,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)"
      ],
      "metadata": {
        "id": "C32EiCETKXHE"
      }
    },
    {
      "cell_type": "code",
      "source": [
        "x = [1,1/2,1/3,1/4,1/5] # entrada como vetor\n",
        "n = len(x)\n",
        "\n",
        "def soma_inv(k): \n",
        "  aux = 1/np.array(k) # auxiliar que monta um vetor com o valor inverso da entrada\n",
        "  return aux.sum() # saída: soma dos termos do vetor aux\n",
        "\n",
        "print(n/soma_inv(x))"
      ],
      "metadata": {
        "colab": {
          "base_uri": "https://localhost:8080/"
        },
        "id": "eALpJ9WgFrc5",
        "outputId": "3a059eed-0ef7-4247-c627-77daa11a4f51"
      },
      "execution_count": 31,
      "outputs": [
        {
          "output_type": "stream",
          "name": "stdout",
          "text": [
            "0.3333333333333333\n"
          ]
        }
      ]
    },
    {
      "cell_type": "code",
      "source": [
        "import statistics \n",
        "x = [1,1/2,1/3,1/4,1/5]\n",
        "print(statistics.harmonic_mean(x))"
      ],
      "metadata": {
        "colab": {
          "base_uri": "https://localhost:8080/"
        },
        "id": "czv-XDlsLBjL",
        "outputId": "8838dc45-cdca-4d79-eb9b-a84c5345b371"
      },
      "execution_count": 32,
      "outputs": [
        {
          "output_type": "stream",
          "name": "stdout",
          "text": [
            "0.3333333333333333\n"
          ]
        }
      ]
    },
    {
      "cell_type": "code",
      "source": [],
      "metadata": {
        "id": "t1hNItTYLLWV"
      },
      "execution_count": null,
      "outputs": []
    }
  ]
}